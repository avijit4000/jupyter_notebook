{
 "cells": [
  {
   "cell_type": "code",
   "execution_count": 1,
   "id": "365ea88c",
   "metadata": {},
   "outputs": [
    {
     "name": "stdout",
     "output_type": "stream",
     "text": [
      "avijit\n"
     ]
    }
   ],
   "source": [
    "print('avijit')"
   ]
  },
  {
   "cell_type": "code",
   "execution_count": 2,
   "id": "8b593d69",
   "metadata": {},
   "outputs": [
    {
     "name": "stdout",
     "output_type": "stream",
     "text": [
      " Volume in drive D is New Volume\n",
      " Volume Serial Number is 382B-1B16\n",
      "\n",
      " Directory of D:\\Pyn\\Test_work\\jupyter notebook\n",
      "\n",
      "21-03-2023  10:39    <DIR>          .\n",
      "19-03-2023  10:11    <DIR>          ..\n",
      "25-02-2023  14:57    <DIR>          .idea\n",
      "21-03-2023  10:39    <DIR>          .ipynb_checkpoints\n",
      "25-02-2023  15:11             2,870 new_1.ipynb\n",
      "19-03-2023  17:18             2,902 new_pra.ipynb\n",
      "21-03-2023  10:39                72 new_test_22.ipynb\n",
      "25-02-2023  13:16             1,828 test_1.ipynb\n",
      "25-02-2023  13:25           158,862 web_scraping.ipynb\n",
      "               5 File(s)        166,534 bytes\n",
      "               4 Dir(s)  95,124,811,776 bytes free\n"
     ]
    }
   ],
   "source": [
    "%ls"
   ]
  },
  {
   "cell_type": "code",
   "execution_count": 4,
   "id": "754ae395",
   "metadata": {},
   "outputs": [],
   "source": [
    "f=open('test1.txt',\"r+\")"
   ]
  },
  {
   "cell_type": "code",
   "execution_count": 6,
   "id": "fb088c1c",
   "metadata": {},
   "outputs": [
    {
     "name": "stdout",
     "output_type": "stream",
     "text": [
      "<_io.TextIOWrapper name='test1.txt' mode='r+' encoding='cp1252'>\n"
     ]
    }
   ],
   "source": [
    "print(f)"
   ]
  },
  {
   "cell_type": "code",
   "execution_count": 7,
   "id": "434ab0b6",
   "metadata": {},
   "outputs": [
    {
     "data": {
      "text/plain": [
       "'test1.txt'"
      ]
     },
     "execution_count": 7,
     "metadata": {},
     "output_type": "execute_result"
    }
   ],
   "source": [
    "f.name"
   ]
  },
  {
   "cell_type": "code",
   "execution_count": 9,
   "id": "67999c50",
   "metadata": {},
   "outputs": [
    {
     "data": {
      "text/plain": [
       "['My name is avijit biswas. My home town is radhanagar kamgachi nadia india 741254. \\n',\n",
       " 'I am very intelegent peroson. I always optimestic energatic and entheustict person. \\n',\n",
       " 'I work hard and try to do my best. some time I succed and some time not get much result. But one quality I have that I never be compromised with others. \\n']"
      ]
     },
     "execution_count": 9,
     "metadata": {},
     "output_type": "execute_result"
    }
   ],
   "source": [
    "f.readlines()"
   ]
  },
  {
   "cell_type": "code",
   "execution_count": 12,
   "id": "27b0994c",
   "metadata": {},
   "outputs": [
    {
     "data": {
      "text/plain": [
       "27"
      ]
     },
     "execution_count": 12,
     "metadata": {},
     "output_type": "execute_result"
    }
   ],
   "source": [
    "f.write(\"i can write line a current \")"
   ]
  },
  {
   "cell_type": "code",
   "execution_count": 13,
   "id": "a025ebdd",
   "metadata": {},
   "outputs": [
    {
     "data": {
      "text/plain": [
       "''"
      ]
     },
     "execution_count": 13,
     "metadata": {},
     "output_type": "execute_result"
    }
   ],
   "source": [
    "f.readline()"
   ]
  },
  {
   "cell_type": "code",
   "execution_count": 14,
   "id": "9a7f308e",
   "metadata": {},
   "outputs": [
    {
     "data": {
      "text/plain": [
       "[]"
      ]
     },
     "execution_count": 14,
     "metadata": {},
     "output_type": "execute_result"
    }
   ],
   "source": [
    "f.readlines()"
   ]
  },
  {
   "cell_type": "code",
   "execution_count": 15,
   "id": "997bcdbd",
   "metadata": {},
   "outputs": [],
   "source": [
    "l = [\"this is my line one \" , \"this is my line 2\" , \" this is my line 3 \" , \"this is my line 4\"]"
   ]
  },
  {
   "cell_type": "code",
   "execution_count": 16,
   "id": "d5414365",
   "metadata": {},
   "outputs": [],
   "source": [
    "f.writelines(l)"
   ]
  },
  {
   "cell_type": "code",
   "execution_count": 17,
   "id": "58688bfe",
   "metadata": {},
   "outputs": [
    {
     "data": {
      "text/plain": [
       "[]"
      ]
     },
     "execution_count": 17,
     "metadata": {},
     "output_type": "execute_result"
    }
   ],
   "source": [
    "f.readlines()"
   ]
  },
  {
   "cell_type": "code",
   "execution_count": 18,
   "id": "aee05916",
   "metadata": {},
   "outputs": [
    {
     "data": {
      "text/plain": [
       "'test1.txt'"
      ]
     },
     "execution_count": 18,
     "metadata": {},
     "output_type": "execute_result"
    }
   ],
   "source": [
    "f = open('test1.txt' , \"r+\")\n",
    "f.name"
   ]
  },
  {
   "cell_type": "code",
   "execution_count": 19,
   "id": "b46d0a0d",
   "metadata": {},
   "outputs": [],
   "source": [
    "import os"
   ]
  },
  {
   "cell_type": "code",
   "execution_count": 22,
   "id": "8fc8137e",
   "metadata": {},
   "outputs": [],
   "source": [
    "os.remove(\"google.txt\")"
   ]
  },
  {
   "cell_type": "code",
   "execution_count": 21,
   "id": "a072e60b",
   "metadata": {},
   "outputs": [
    {
     "name": "stdout",
     "output_type": "stream",
     "text": [
      " Volume in drive D is New Volume\n",
      " Volume Serial Number is 382B-1B16\n",
      "\n",
      " Directory of D:\\Pyn\\Test_work\\jupyter notebook\n",
      "\n",
      "21-03-2023  11:21    <DIR>          .\n",
      "19-03-2023  10:11    <DIR>          ..\n",
      "25-02-2023  14:57    <DIR>          .idea\n",
      "21-03-2023  10:39    <DIR>          .ipynb_checkpoints\n",
      "25-02-2023  15:11             2,870 new_1.ipynb\n",
      "19-03-2023  17:18             2,902 new_pra.ipynb\n",
      "21-03-2023  11:21             5,159 new_test_22.ipynb\n",
      "25-02-2023  13:16             1,828 test_1.ipynb\n",
      "21-03-2023  10:46               325 test1.txt\n",
      "25-02-2023  13:25           158,862 web_scraping.ipynb\n",
      "               6 File(s)        171,946 bytes\n",
      "               4 Dir(s)  92,941,484,032 bytes free\n"
     ]
    }
   ],
   "source": [
    "%ls"
   ]
  },
  {
   "cell_type": "code",
   "execution_count": 23,
   "id": "53579193",
   "metadata": {},
   "outputs": [
    {
     "data": {
      "text/plain": [
       "'D:\\\\Pyn\\\\Test_work\\\\jupyter notebook'"
      ]
     },
     "execution_count": 23,
     "metadata": {},
     "output_type": "execute_result"
    }
   ],
   "source": [
    "os.getcwd()"
   ]
  },
  {
   "cell_type": "code",
   "execution_count": 24,
   "id": "de7e950b",
   "metadata": {},
   "outputs": [
    {
     "data": {
      "text/plain": [
       "'D:\\\\Pyn\\\\Test_work\\\\jupyter notebook'"
      ]
     },
     "execution_count": 24,
     "metadata": {},
     "output_type": "execute_result"
    }
   ],
   "source": [
    "pwd()"
   ]
  },
  {
   "cell_type": "code",
   "execution_count": 26,
   "id": "8fa9706c",
   "metadata": {},
   "outputs": [
    {
     "data": {
      "text/plain": [
       "['.idea',\n",
       " '.ipynb_checkpoints',\n",
       " 'new_1.ipynb',\n",
       " 'new_pra.ipynb',\n",
       " 'new_test_22.ipynb',\n",
       " 'test1.txt',\n",
       " 'test_1.ipynb',\n",
       " 'web_scraping.ipynb']"
      ]
     },
     "execution_count": 26,
     "metadata": {},
     "output_type": "execute_result"
    }
   ],
   "source": [
    "os.listdir(\"D:\\\\Pyn\\\\Test_work\\\\jupyter notebook\")"
   ]
  },
  {
   "cell_type": "code",
   "execution_count": 27,
   "id": "26192b5e",
   "metadata": {},
   "outputs": [
    {
     "data": {
      "text/plain": [
       "'D:\\\\Pyn\\\\Test_work\\\\jupyter notebook'"
      ]
     },
     "execution_count": 27,
     "metadata": {},
     "output_type": "execute_result"
    }
   ],
   "source": [
    "os.getcwd()"
   ]
  },
  {
   "cell_type": "code",
   "execution_count": 31,
   "id": "3be4821f",
   "metadata": {},
   "outputs": [
    {
     "data": {
      "text/plain": [
       "<AddedDllDirectory('D:\\\\Pyn\\\\Test_work\\\\jupyter notebook')>"
      ]
     },
     "execution_count": 31,
     "metadata": {},
     "output_type": "execute_result"
    }
   ],
   "source": [
    "os.add_dll_directory('D:\\\\Pyn\\\\Test_work\\\\jupyter notebook')"
   ]
  },
  {
   "cell_type": "code",
   "execution_count": null,
   "id": "7a341f84",
   "metadata": {},
   "outputs": [],
   "source": []
  }
 ],
 "metadata": {
  "kernelspec": {
   "display_name": "Python 3 (ipykernel)",
   "language": "python",
   "name": "python3"
  },
  "language_info": {
   "codemirror_mode": {
    "name": "ipython",
    "version": 3
   },
   "file_extension": ".py",
   "mimetype": "text/x-python",
   "name": "python",
   "nbconvert_exporter": "python",
   "pygments_lexer": "ipython3",
   "version": "3.10.7"
  }
 },
 "nbformat": 4,
 "nbformat_minor": 5
}
