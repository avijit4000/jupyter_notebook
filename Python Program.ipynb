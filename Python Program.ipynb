{
 "cells": [
  {
   "cell_type": "code",
   "execution_count": 2,
   "id": "4dd171ad",
   "metadata": {},
   "outputs": [
    {
     "name": "stdout",
     "output_type": "stream",
     "text": [
      "1\n",
      "2\n",
      "Buzz\n",
      "4\n",
      "Fizz\n",
      "Buzz\n",
      "7\n",
      "8\n",
      "Buzz\n",
      "Fizz\n",
      "11\n",
      "Buzz\n",
      "13\n",
      "14\n",
      "FizzBuzz\n",
      "16\n",
      "17\n",
      "Buzz\n",
      "19\n",
      "Fizz\n"
     ]
    }
   ],
   "source": [
    "def fizzbuzz(n):\n",
    "    for i in range(1,n+1):\n",
    "        if i%3==0 and i%5==0:\n",
    "            print(\"FizzBuzz\")\n",
    "        elif i%5==0:\n",
    "            print(\"Fizz\")\n",
    "        elif i%3==0:\n",
    "            print(\"Buzz\")\n",
    "        else:\n",
    "            print(i)\n",
    "        \n",
    "fizzbuzz(20)"
   ]
  },
  {
   "cell_type": "code",
   "execution_count": 7,
   "id": "cd145692",
   "metadata": {},
   "outputs": [
    {
     "name": "stdout",
     "output_type": "stream",
     "text": [
      "1\n",
      "2\n",
      "fizz\n",
      "4\n",
      "Buzz\n",
      "fizz\n",
      "7\n",
      "8\n",
      "fizz\n",
      "Buzz\n",
      "11\n",
      "fizz\n",
      "13\n",
      "14\n",
      "fizzBuzz\n",
      "16\n",
      "17\n",
      "fizz\n",
      "19\n",
      "Buzz\n",
      "None\n"
     ]
    }
   ],
   "source": [
    "def fizzbuzz(n):\n",
    "    d={3: 'fizz',\n",
    "      5: 'Buzz'}\n",
    "    for i in range(1,n+1):\n",
    "        result=''\n",
    "        for k,v in d.items():\n",
    "            if i%k==0:\n",
    "                result+=v\n",
    "        if not result:\n",
    "            result=i\n",
    "        print(result)\n",
    "print(fizzbuzz(20))"
   ]
  },
  {
   "cell_type": "code",
   "execution_count": 1,
   "id": "7eb48dcb",
   "metadata": {},
   "outputs": [
    {
     "name": "stdout",
     "output_type": "stream",
     "text": [
      "avijit\n"
     ]
    }
   ],
   "source": [
    "print('avijit')"
   ]
  },
  {
   "cell_type": "code",
   "execution_count": 2,
   "id": "1fb43803",
   "metadata": {},
   "outputs": [
    {
     "name": "stdout",
     "output_type": "stream",
     "text": [
      "non pal\n",
      "None\n"
     ]
    }
   ],
   "source": [
    "def pal(n):\n",
    "    m=reversed(n)\n",
    "    if m==n:\n",
    "        print('pal')\n",
    "    else:\n",
    "        print('non pal')\n",
    "print(pal('avijit'))"
   ]
  },
  {
   "cell_type": "code",
   "execution_count": 3,
   "id": "e712f698",
   "metadata": {},
   "outputs": [
    {
     "name": "stdout",
     "output_type": "stream",
     "text": [
      "1\n",
      "2\n",
      "3\n",
      "4\n",
      "5\n",
      "6\n",
      "7\n",
      "8\n",
      "9\n"
     ]
    }
   ],
   "source": [
    "for i in range(1,10):\n",
    "    print(i)"
   ]
  },
  {
   "cell_type": "code",
   "execution_count": 9,
   "id": "234fcd8d",
   "metadata": {},
   "outputs": [
    {
     "data": {
      "text/plain": [
       "True"
      ]
     },
     "execution_count": 9,
     "metadata": {},
     "output_type": "execute_result"
    }
   ],
   "source": [
    "def pal_1(s):\n",
    "    for i in range(len(s)):\n",
    "        if s[i]!=s[len(s)-1-i]:\n",
    "            return False\n",
    "    return True\n",
    "pal_1('avijittijiva')"
   ]
  },
  {
   "cell_type": "code",
   "execution_count": 7,
   "id": "400248fa",
   "metadata": {},
   "outputs": [
    {
     "data": {
      "text/plain": [
       "6"
      ]
     },
     "execution_count": 7,
     "metadata": {},
     "output_type": "execute_result"
    }
   ],
   "source": [
    "len('avijit')"
   ]
  },
  {
   "cell_type": "code",
   "execution_count": 14,
   "id": "b85d1088",
   "metadata": {},
   "outputs": [
    {
     "name": "stdout",
     "output_type": "stream",
     "text": [
      "0\n"
     ]
    }
   ],
   "source": [
    "age=3\n",
    "if age<4:\n",
    "    price=0\n",
    "elif age>4 and age<10:\n",
    "    price=2\n",
    "elif age>9 and age<15:\n",
    "    price=5\n",
    "elif age>14 and age<30:\n",
    "    price=9\n",
    "else:\n",
    "    price=12\n",
    "print(str(price))"
   ]
  },
  {
   "cell_type": "code",
   "execution_count": 15,
   "id": "bd750b5b",
   "metadata": {},
   "outputs": [
    {
     "name": "stdout",
     "output_type": "stream",
     "text": [
      "tijiva\n"
     ]
    }
   ],
   "source": [
    "a='avijit'\n",
    "b=reversed(a)\n",
    "s=[]\n",
    "for i in b:\n",
    "    s.append(i)\n",
    "s=''.join(s)\n",
    "print(s)"
   ]
  },
  {
   "cell_type": "code",
   "execution_count": 22,
   "id": "eafe7c9c",
   "metadata": {},
   "outputs": [
    {
     "name": "stdout",
     "output_type": "stream",
     "text": [
      "tijiva\n"
     ]
    }
   ],
   "source": [
    "a=[]\n",
    "for i in reversed('avijit'):\n",
    "    a.append(i)\n",
    "a=''.join(a)\n",
    "print(a)"
   ]
  },
  {
   "cell_type": "code",
   "execution_count": 23,
   "id": "2dd1098d",
   "metadata": {},
   "outputs": [
    {
     "name": "stdout",
     "output_type": "stream",
     "text": [
      "1\n",
      "2\n",
      "3\n",
      "4\n",
      "5\n"
     ]
    }
   ],
   "source": [
    "i=1\n",
    "while i<=5:\n",
    "    print(i)\n",
    "    i=i+1"
   ]
  },
  {
   "cell_type": "code",
   "execution_count": 24,
   "id": "27ab2745",
   "metadata": {},
   "outputs": [
    {
     "name": "stdout",
     "output_type": "stream",
     "text": [
      "10\n",
      "13\n",
      "16\n",
      "19\n"
     ]
    }
   ],
   "source": [
    "i=10\n",
    "while i<20:\n",
    "    print(i)\n",
    "    i=i+3"
   ]
  },
  {
   "cell_type": "code",
   "execution_count": null,
   "id": "718eda56",
   "metadata": {},
   "outputs": [],
   "source": [
    "def prime(st,en):\n",
    "    for n in range(st,ed):\n",
    "        if n>1:\n",
    "            for i in range(2//2+1):\n",
    "                if n%i"
   ]
  }
 ],
 "metadata": {
  "kernelspec": {
   "display_name": "Python 3 (ipykernel)",
   "language": "python",
   "name": "python3"
  },
  "language_info": {
   "codemirror_mode": {
    "name": "ipython",
    "version": 3
   },
   "file_extension": ".py",
   "mimetype": "text/x-python",
   "name": "python",
   "nbconvert_exporter": "python",
   "pygments_lexer": "ipython3",
   "version": "3.10.7"
  }
 },
 "nbformat": 4,
 "nbformat_minor": 5
}
